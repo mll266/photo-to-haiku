{
 "cells": [
  {
   "cell_type": "code",
   "execution_count": null,
   "metadata": {},
   "outputs": [
    {
     "name": "stdout",
     "output_type": "stream",
     "text": [
      "Google Cloud Vision API is installed and ready!\n",
      "Photo_Analysis.json\n"
     ]
    }
   ],
   "source": [
    "import google.cloud.vision\n",
    "print(\"Google Cloud Vision API is installed and ready!\")\n",
    "import os\n",
    "os.environ[\"GOOGLE_APPLICATION_CREDENTIALS\"] = \"Photo_Analysis.json\" ## u need to create ur own authentication key and link it here\n",
    "print(os.getenv(\"GOOGLE_APPLICATION_CREDENTIALS\"))\n"
   ]
  },
  {
   "cell_type": "code",
   "execution_count": 10,
   "metadata": {},
   "outputs": [
    {
     "name": "stdout",
     "output_type": "stream",
     "text": [
      "Vision API client successfully initialized!\n"
     ]
    }
   ],
   "source": [
    "from google.cloud import vision\n",
    "\n",
    "client = vision.ImageAnnotatorClient()\n",
    "print(\"Vision API client successfully initialized!\")\n"
   ]
  },
  {
   "cell_type": "code",
   "execution_count": null,
   "metadata": {},
   "outputs": [],
   "source": [
    "def analyze_image(image_path):\n",
    "    \"\"\"Analyzes an image for object labels and facial emotions using Google Cloud Vision API.\"\"\"\n",
    "    \n",
    "    client = vision.ImageAnnotatorClient()\n",
    "\n",
    "    # Read image file\n",
    "    with open(image_path, \"rb\") as image_file:\n",
    "        content = image_file.read()\n",
    "    \n",
    "    image = vision.Image(content=content)\n",
    "\n",
    "    # Object detection\n",
    "    label_response = client.label_detection(image=image)\n",
    "    labels = label_response.label_annotations\n",
    "\n",
    "    print(\"\\n🎯 Detected Labels:\")\n",
    "    for label in labels:\n",
    "        print(f\"- {label.description} (Confidence: {label.score:.2f})\")\n",
    "\n",
    "    # Face emotion detection\n",
    "    face_response = client.face_detection(image=image)\n",
    "    faces = face_response.face_annotations\n",
    "\n",
    "    if not faces:\n",
    "        print(\"\\n😊 No faces detected.\")\n",
    "    else:\n",
    "        print(\"\\n😊 Facial Emotion Analysis:\")\n",
    "        for i, face in enumerate(faces):\n",
    "            print(f\"\\n👤 Face {i+1}:\")\n",
    "            print(f\"   - Joy: {face.joy_likelihood}\")\n",
    "            print(f\"   - Sorrow: {face.sorrow_likelihood}\")\n",
    "            print(f\"   - Anger: {face.anger_likelihood}\")\n",
    "            print(f\"   - Surprise: {face.surprise_likelihood}\")\n",
    "\n",
    "# output should be dictionary list, face emotions not necessary"
   ]
  },
  {
   "cell_type": "code",
   "execution_count": 14,
   "metadata": {},
   "outputs": [
    {
     "name": "stdout",
     "output_type": "stream",
     "text": [
      "\n",
      "🎯 Detected Labels:\n",
      "- City (Confidence: 0.96)\n",
      "- Residential area (Confidence: 0.95)\n",
      "- Urban area (Confidence: 0.95)\n",
      "- Neighbourhood (Confidence: 0.94)\n",
      "- Landscape (Confidence: 0.92)\n",
      "- Roof (Confidence: 0.90)\n",
      "- Bird's-eye view (Confidence: 0.90)\n",
      "- Human settlement (Confidence: 0.88)\n",
      "- Urban design (Confidence: 0.88)\n",
      "- Suburb (Confidence: 0.84)\n",
      "\n",
      "😊 No faces detected.\n"
     ]
    }
   ],
   "source": [
    "analyze_image(\"ithaca.jpg\")"
   ]
  }
 ],
 "metadata": {
  "kernelspec": {
   "display_name": "base",
   "language": "python",
   "name": "python3"
  },
  "language_info": {
   "codemirror_mode": {
    "name": "ipython",
    "version": 3
   },
   "file_extension": ".py",
   "mimetype": "text/x-python",
   "name": "python",
   "nbconvert_exporter": "python",
   "pygments_lexer": "ipython3",
   "version": "3.8.8"
  }
 },
 "nbformat": 4,
 "nbformat_minor": 2
}
